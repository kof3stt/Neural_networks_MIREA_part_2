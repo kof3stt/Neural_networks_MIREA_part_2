{
 "cells": [
  {
   "cell_type": "markdown",
   "id": "7d836417",
   "metadata": {},
   "source": [
    "# Предобученная модель"
   ]
  },
  {
   "cell_type": "markdown",
   "id": "5a42c062",
   "metadata": {},
   "source": [
    "## Импорт библиотек"
   ]
  },
  {
   "cell_type": "code",
   "execution_count": 39,
   "id": "b9842486",
   "metadata": {},
   "outputs": [],
   "source": [
    "import torch\n",
    "from transformers import pipeline, AutoTokenizer, AutoModelForSequenceClassification\n",
    "from datasets import load_dataset\n",
    "from tqdm import tqdm"
   ]
  },
  {
   "cell_type": "markdown",
   "id": "f8323955",
   "metadata": {},
   "source": [
    "## Загрузка датасета"
   ]
  },
  {
   "cell_type": "code",
   "execution_count": 40,
   "id": "6f106db4",
   "metadata": {},
   "outputs": [],
   "source": [
    "dataset = load_dataset(\"sms_spam\")[\"train\"]"
   ]
  },
  {
   "cell_type": "markdown",
   "id": "65dac8da",
   "metadata": {},
   "source": [
    "## Загрузка предобученной модели"
   ]
  },
  {
   "cell_type": "code",
   "execution_count": 41,
   "id": "4474829e",
   "metadata": {},
   "outputs": [
    {
     "name": "stderr",
     "output_type": "stream",
     "text": [
      "Some weights of DistilBertForSequenceClassification were not initialized from the model checkpoint at distilbert-base-uncased and are newly initialized: ['classifier.bias', 'classifier.weight', 'pre_classifier.bias', 'pre_classifier.weight']\n",
      "You should probably TRAIN this model on a down-stream task to be able to use it for predictions and inference.\n"
     ]
    }
   ],
   "source": [
    "model_name = \"distilbert-base-uncased\"\n",
    "tokenizer = AutoTokenizer.from_pretrained(model_name)\n",
    "model = AutoModelForSequenceClassification.from_pretrained(model_name, num_labels=2)"
   ]
  },
  {
   "cell_type": "markdown",
   "id": "93a4aa05",
   "metadata": {},
   "source": [
    "## Создание объекта pipeline"
   ]
  },
  {
   "cell_type": "code",
   "execution_count": 42,
   "id": "83b10c13",
   "metadata": {},
   "outputs": [
    {
     "name": "stderr",
     "output_type": "stream",
     "text": [
      "Device set to use cuda:0\n"
     ]
    }
   ],
   "source": [
    "classifier = pipeline(\n",
    "    \"text-classification\",\n",
    "    model=model,\n",
    "    tokenizer=tokenizer,\n",
    "    device=0 if torch.cuda.is_available() else -1,\n",
    "    truncation=True,\n",
    "    max_length=128,\n",
    ")"
   ]
  },
  {
   "cell_type": "markdown",
   "id": "dd68043d",
   "metadata": {},
   "source": [
    "## Оценка точности"
   ]
  },
  {
   "cell_type": "code",
   "execution_count": 43,
   "id": "fd62723d",
   "metadata": {},
   "outputs": [
    {
     "name": "stderr",
     "output_type": "stream",
     "text": [
      "Evaluating: 100%|██████████| 5574/5574 [00:12<00:00, 449.00it/s]"
     ]
    },
    {
     "name": "stdout",
     "output_type": "stream",
     "text": [
      "\n",
      "\u001b[92mPipeline Evaluation Accuracy: 4827 / 5574 = 0.8660\u001b[0m\n"
     ]
    },
    {
     "name": "stderr",
     "output_type": "stream",
     "text": [
      "\n"
     ]
    }
   ],
   "source": [
    "correct = 0\n",
    "total = len(dataset)\n",
    "\n",
    "for example in tqdm(dataset, desc=\"Evaluating\"):\n",
    "    text = example[\"sms\"]\n",
    "    true_label = example[\"label\"]  # 0 = not spam, 1 = spam\n",
    "\n",
    "    prediction = classifier(text, truncation=True, max_length=128)[0]\n",
    "    predicted_label = 1 if prediction[\"label\"] == \"LABEL_1\" else 0\n",
    "\n",
    "    if predicted_label == true_label:\n",
    "        correct += 1\n",
    "\n",
    "accuracy = correct / total\n",
    "\n",
    "print(f\"\\n\\033[92mPipeline Evaluation Accuracy: {correct} / {total} = {accuracy:.4f}\\033[0m\")"
   ]
  }
 ],
 "metadata": {
  "kernelspec": {
   "display_name": ".venv",
   "language": "python",
   "name": "python3"
  },
  "language_info": {
   "codemirror_mode": {
    "name": "ipython",
    "version": 3
   },
   "file_extension": ".py",
   "mimetype": "text/x-python",
   "name": "python",
   "nbconvert_exporter": "python",
   "pygments_lexer": "ipython3",
   "version": "3.13.1"
  }
 },
 "nbformat": 4,
 "nbformat_minor": 5
}
