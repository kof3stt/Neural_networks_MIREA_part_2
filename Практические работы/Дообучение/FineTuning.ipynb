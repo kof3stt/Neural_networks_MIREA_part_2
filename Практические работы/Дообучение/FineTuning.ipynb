{
 "cells": [
  {
   "cell_type": "markdown",
   "id": "2eee52da",
   "metadata": {},
   "source": [
    "# Трансферное обучение"
   ]
  },
  {
   "cell_type": "markdown",
   "id": "388d7e36",
   "metadata": {},
   "source": [
    "## Импорт библиотек"
   ]
  },
  {
   "cell_type": "code",
   "execution_count": 20,
   "id": "5e14f8fd",
   "metadata": {},
   "outputs": [],
   "source": [
    "import torch\n",
    "from torch.utils.data import DataLoader\n",
    "from transformers import (\n",
    "    AutoTokenizer,\n",
    "    AutoModelForSequenceClassification,\n",
    "    DataCollatorWithPadding,\n",
    "    Trainer,\n",
    "    TrainingArguments,\n",
    ")\n",
    "from datasets import load_dataset, DatasetDict\n",
    "import matplotlib.pyplot as plt\n",
    "\n",
    "from typing import Any, Dict, Optional, Tuple\n",
    "\n",
    "from collections import Counter\n",
    "import pandas as pd"
   ]
  },
  {
   "cell_type": "markdown",
   "id": "0d3f7bf8",
   "metadata": {},
   "source": [
    "## Определение класса DatasetManager"
   ]
  },
  {
   "cell_type": "code",
   "execution_count": 21,
   "id": "21829cb9",
   "metadata": {},
   "outputs": [],
   "source": [
    "class DatasetManager:\n",
    "    \"\"\"\n",
    "    Менеджер для загрузки, анализа и подготовки датасета для задачи детекции спама.\n",
    "    \"\"\"\n",
    "\n",
    "    def __init__(\n",
    "        self,\n",
    "        dataset_name: str = \"sms_spam\",\n",
    "        text_column: str = \"sms\",\n",
    "        validation_split: float = 0.2,\n",
    "        test_split: float = 0.1,\n",
    "        seed: int = 42,\n",
    "    ) -> None:\n",
    "        \"\"\"\n",
    "        Менеджер для загрузки, анализа и подготовки датасета для задачи детекции спама.\n",
    "\n",
    "        Параметры:\n",
    "            dataset_name (str): Название датасета.\n",
    "            text_column (str): Колонка с текстом.\n",
    "            validation_split (float): Доля валидационной выборки.\n",
    "            test_split (float): Доля тестовой выборки.\n",
    "            seed (int): Сид для воспроизводимости.\n",
    "        \"\"\"\n",
    "        self.text_column: str = text_column\n",
    "        raw = load_dataset(dataset_name)\n",
    "\n",
    "        if \"test\" not in raw:\n",
    "            train_temp = raw[\"train\"].train_test_split(\n",
    "                test_size=test_split + validation_split, seed=seed\n",
    "            )\n",
    "\n",
    "            temp = train_temp[\"test\"].train_test_split(\n",
    "                test_size=test_split / (test_split + validation_split), seed=seed\n",
    "            )\n",
    "\n",
    "            self.dataset = DatasetDict(\n",
    "                {\n",
    "                    \"train\": train_temp[\"train\"],\n",
    "                    \"validation\": temp[\"train\"],\n",
    "                    \"test\": temp[\"test\"],\n",
    "                }\n",
    "            )\n",
    "        else:\n",
    "            self.dataset = raw\n",
    "\n",
    "        self.tokenizer = AutoTokenizer.from_pretrained(\"distilbert-base-uncased\")\n",
    "\n",
    "    def summary(self) -> None:\n",
    "        \"\"\"\n",
    "        Выводит статистику по датасету:\n",
    "        1. Распределение примеров между train/validation/test\n",
    "        2. Распределение классов в обучающей выборке\n",
    "        \"\"\"\n",
    "        sizes = {split: len(ds) for split, ds in self.dataset.items()}\n",
    "        labels = list(self.dataset[\"train\"][\"label\"])\n",
    "        dist = Counter(labels)\n",
    "\n",
    "        df1 = pd.DataFrame.from_dict(sizes, orient=\"index\", columns=[\"Samples\"])\n",
    "        df2 = pd.DataFrame({\"Label\": list(dist.keys()), \"Count\": list(dist.values())})\n",
    "\n",
    "        print(\"\\033[92mDataset Splits:\\033[0m\")\n",
    "        print(df1.to_markdown())\n",
    "        print(\"\\n\\033[92mClass Distribution (train):\\033[0m\")\n",
    "        print(df2.to_markdown(index=False))\n",
    "\n",
    "    def show_samples(self, n: int = 5) -> None:\n",
    "        \"\"\"\n",
    "        Отображает первые n записей с текстом и меткой.\n",
    "\n",
    "        Параметры:\n",
    "            n (int): число примеров.\n",
    "        \"\"\"\n",
    "        ds = self.dataset[\"train\"]\n",
    "        print(f\"\\033[92mFirst {min(n, len(ds))} samples:\\033[0m\")\n",
    "        for idx in range(min(n, len(ds))):\n",
    "            example = ds[idx]\n",
    "            label = example[\"label\"]\n",
    "            text = example[self.text_column]\n",
    "            print(f\"Sample {idx+1:2d}: [{label}] {text}\")\n",
    "\n",
    "    def preprocess(\n",
    "        self,\n",
    "        max_length: int = 128,\n",
    "    ) -> DatasetDict:\n",
    "        \"\"\"\n",
    "        Токенизация текстов и добавление поля 'labels'.\n",
    "\n",
    "        Параметры:\n",
    "            max_length (int): максимальная длина последовательности.\n",
    "\n",
    "        Возвращает:\n",
    "            DatasetDict: токенизированный датасет с 'input_ids', 'attention_mask', 'labels'.\n",
    "        \"\"\"\n",
    "\n",
    "        def tokenize_fn(example: Dict[str, Any]) -> Dict[str, Any]:\n",
    "            tokens = self.tokenizer(\n",
    "                example[self.text_column],\n",
    "                truncation=True,\n",
    "                max_length=max_length,\n",
    "            )\n",
    "            tokens[\"labels\"] = example[\"label\"]\n",
    "            return tokens\n",
    "\n",
    "        tokenized = self.dataset.map(\n",
    "            tokenize_fn,\n",
    "            batched=True,\n",
    "            remove_columns=self.dataset[\"train\"].column_names,\n",
    "        )\n",
    "        return tokenized"
   ]
  },
  {
   "cell_type": "markdown",
   "id": "4b43dd2c",
   "metadata": {},
   "source": [
    "## Определение класса SpamClassifier"
   ]
  },
  {
   "cell_type": "code",
   "execution_count": 22,
   "id": "70f8bb7e",
   "metadata": {},
   "outputs": [],
   "source": [
    "class SpamClassifier:\n",
    "    \"\"\"\n",
    "    Обёртка для DistilBERT, обучаемая на задаче классификации спама.\n",
    "    \"\"\"\n",
    "\n",
    "    def __init__(\n",
    "        self,\n",
    "        num_labels: int,\n",
    "        output_dir: str = \"./spam_model\",\n",
    "        epochs: int = 5,\n",
    "        batch_size: int = 8,\n",
    "        learning_rate: float = 2e-5,\n",
    "    ) -> None:\n",
    "        \"\"\"\n",
    "        Инициализация модели и параметров тренировки.\n",
    "\n",
    "        Параметры:\n",
    "            num_labels (int): количество классов.\n",
    "            output_dir (str): директория для результатов.\n",
    "            epochs (int): число эпох.\n",
    "            batch_size (int): размер батча.\n",
    "            learning_rate (float): скорость обучения.\n",
    "        \"\"\"\n",
    "        self.tokenizer: Optional[AutoTokenizer] = None\n",
    "        self.model = AutoModelForSequenceClassification.from_pretrained(\n",
    "            \"distilbert-base-uncased\", num_labels=num_labels\n",
    "        )\n",
    "        self.args = TrainingArguments(\n",
    "            output_dir=output_dir,\n",
    "            num_train_epochs=epochs,\n",
    "            per_device_train_batch_size=batch_size,\n",
    "            per_device_eval_batch_size=batch_size,\n",
    "            learning_rate=learning_rate,\n",
    "            evaluation_strategy=\"epoch\",\n",
    "            save_strategy=\"epoch\",\n",
    "            logging_strategy=\"epoch\",\n",
    "            logging_dir=f\"{output_dir}/logs\",\n",
    "            load_best_model_at_end=True,\n",
    "            metric_for_best_model=\"accuracy\",\n",
    "        )\n",
    "        self.trainer: Optional[Trainer] = None\n",
    "\n",
    "    def compute_metrics(\n",
    "        self,\n",
    "        eval_pred: Tuple[Any, Any],\n",
    "    ) -> Dict[str, float]:\n",
    "        \"\"\"\n",
    "        Вычисляет accuracy по предсказаниям.\n",
    "\n",
    "        Параметры:\n",
    "            eval_pred: кортеж (логиты, метки).\n",
    "        Возвращает:\n",
    "            Dict[str, float]: {'accuracy': value}.\n",
    "        \"\"\"\n",
    "        logits, labels = eval_pred\n",
    "        preds = logits.argmax(axis=-1)\n",
    "        accuracy = (preds == labels).astype(float).mean().item()\n",
    "        return {\"accuracy\": accuracy}\n",
    "\n",
    "    def train(\n",
    "        self,\n",
    "        tokenized_dataset: DatasetDict,\n",
    "        tokenizer: AutoTokenizer,\n",
    "    ) -> Trainer:\n",
    "        \"\"\"\n",
    "        Запускает тренировку и валидацию модели.\n",
    "\n",
    "        Параметры:\n",
    "            tokenized_dataset: токенизированные 'train' и 'validation'.\n",
    "            tokenizer: токенизатор для паддинга.\n",
    "        Возвращает:\n",
    "            Trainer: объект Trainer.\n",
    "        \"\"\"\n",
    "        self.tokenizer = tokenizer\n",
    "        data_collator = DataCollatorWithPadding(tokenizer=self.tokenizer)\n",
    "        trainer = Trainer(\n",
    "            model=self.model,\n",
    "            args=self.args,\n",
    "            train_dataset=tokenized_dataset[\"train\"],\n",
    "            eval_dataset=tokenized_dataset[\"validation\"],\n",
    "            tokenizer=self.tokenizer,\n",
    "            data_collator=data_collator,\n",
    "            compute_metrics=self.compute_metrics,\n",
    "        )\n",
    "        trainer.train()\n",
    "        trainer.save_model(self.args.output_dir)\n",
    "        self.trainer = trainer\n",
    "        return trainer\n",
    "\n",
    "    def test(self, tokenized_dataset: DatasetDict) -> Dict[str, float]:\n",
    "        \"\"\"\n",
    "        Прогоняет модель на тестовом наборе и возвращает метрики.\n",
    "\n",
    "        Параметры:\n",
    "            tokenized_dataset (DatasetDict): Датасет с токенизированным сплитом 'test'.\n",
    "\n",
    "        Возвращает:\n",
    "            Dict[str, float]: Метрики оценки.\n",
    "        \"\"\"\n",
    "        print(\"\\n\\033[92mTesting on test split...\\033[0m\")\n",
    "        metrics = self.trainer.evaluate(eval_dataset=tokenized_dataset[\"test\"])\n",
    "        test_accuracy = metrics.get(\"eval_accuracy\", 0.0)\n",
    "        print(f\"\\033[92mTest Accuracy: {test_accuracy:.4f}\\033[0m\")\n",
    "        return metrics\n",
    "\n",
    "    def plot_loss(self) -> None:\n",
    "        \"\"\"\n",
    "        Строит график train_loss, eval_loss и test_loss по эпохам.\n",
    "        \"\"\"\n",
    "        train_epochs, train_losses = [], []\n",
    "        eval_epochs, eval_losses = [], []\n",
    "        for record in self.trainer.state.log_history:\n",
    "            if \"epoch\" in record:\n",
    "                if (\n",
    "                    \"loss\" in record\n",
    "                    and \"eval_loss\" not in record\n",
    "                    and \"test_loss\" not in record\n",
    "                ):\n",
    "                    train_epochs.append(record[\"epoch\"])\n",
    "                    train_losses.append(record[\"loss\"])\n",
    "                if \"eval_loss\" in record:\n",
    "                    eval_epochs.append(record[\"epoch\"])\n",
    "                    eval_losses.append(record[\"eval_loss\"])\n",
    "        plt.figure(figsize=(6, 4))\n",
    "        plt.plot(train_epochs, train_losses, marker=\"o\", label=\"Train Loss\")\n",
    "        plt.plot(eval_epochs, eval_losses, marker=\"o\", label=\"Eval Loss\")\n",
    "        plt.xlabel(\"Epoch\")\n",
    "        plt.ylabel(\"Loss\")\n",
    "        plt.title(\"Loss over Epochs\")\n",
    "        plt.legend()\n",
    "        plt.grid(True)\n",
    "        plt.tight_layout()\n",
    "        plt.show()\n",
    "\n",
    "    def plot_accuracy(self) -> None:\n",
    "        \"\"\"\n",
    "        Строит график train_accuracy, eval_accuracy и test_accuracy по эпохам.\n",
    "        \"\"\"\n",
    "        eval_epochs, eval_accs = [], []\n",
    "        for record in self.trainer.state.log_history:\n",
    "            if \"epoch\" in record:\n",
    "                if \"eval_accuracy\" in record:\n",
    "                    eval_epochs.append(record[\"epoch\"])\n",
    "                    eval_accs.append(record[\"eval_accuracy\"])\n",
    "        plt.figure(figsize=(6, 4))\n",
    "        plt.plot(eval_epochs, eval_accs, marker=\"o\", label=\"Eval Acc\")\n",
    "        plt.xlabel(\"Epoch\")\n",
    "        plt.ylabel(\"Accuracy\")\n",
    "        plt.title(\"Accuracy over Epochs\")\n",
    "        plt.legend()\n",
    "        plt.grid(True)\n",
    "        plt.tight_layout()\n",
    "        plt.show()"
   ]
  },
  {
   "cell_type": "markdown",
   "id": "8d547ded",
   "metadata": {},
   "source": [
    "## Инициализация датасета"
   ]
  },
  {
   "cell_type": "code",
   "execution_count": 23,
   "id": "4c09f54b",
   "metadata": {},
   "outputs": [],
   "source": [
    "manager = DatasetManager(\n",
    "    dataset_name=\"sms_spam\",\n",
    "    text_column=\"sms\",\n",
    "    validation_split=0.2,\n",
    "    test_split=0.1,\n",
    "    seed=42,\n",
    ")"
   ]
  },
  {
   "cell_type": "markdown",
   "id": "4037060d",
   "metadata": {},
   "source": [
    "## Параметры датасета"
   ]
  },
  {
   "cell_type": "code",
   "execution_count": 24,
   "id": "caa82626",
   "metadata": {},
   "outputs": [
    {
     "name": "stdout",
     "output_type": "stream",
     "text": [
      "\u001b[92mDataset Splits:\u001b[0m\n",
      "|            |   Samples |\n",
      "|:-----------|----------:|\n",
      "| train      |      3901 |\n",
      "| validation |      1115 |\n",
      "| test       |       558 |\n",
      "\n",
      "\u001b[92mClass Distribution (train):\u001b[0m\n",
      "|   Label |   Count |\n",
      "|--------:|--------:|\n",
      "|       0 |    3383 |\n",
      "|       1 |     518 |\n"
     ]
    }
   ],
   "source": [
    "manager.summary()"
   ]
  },
  {
   "cell_type": "markdown",
   "id": "37f5a1ed",
   "metadata": {},
   "source": [
    "## Пример N записей"
   ]
  },
  {
   "cell_type": "code",
   "execution_count": 25,
   "id": "75d89932",
   "metadata": {},
   "outputs": [
    {
     "name": "stdout",
     "output_type": "stream",
     "text": [
      "\u001b[92mFirst 10 samples:\u001b[0m\n",
      "Sample  1: [0] if you text on your way to cup stop that should work. And that should be BUS\n",
      "\n",
      "Sample  2: [0] They said ü dun haf passport or smth like dat.. Or ü juz send to my email account..  \n",
      "\n",
      "Sample  3: [0] Yay can't wait to party together!\n",
      "\n",
      "Sample  4: [0] I take it we didn't have the phone callon Friday. Can we assume we won't have it this year now?\n",
      "\n",
      "Sample  5: [0] You're right I have now that I think about it\n",
      "\n",
      "Sample  6: [0] Even if he my friend he is a priest call him now\n",
      "\n",
      "Sample  7: [0] Purity of friendship between two is not about smiling after reading the forwarded message..Its about smiling just by seeing the name. Gud evng\n",
      "\n",
      "Sample  8: [0] get ready to moan and scream :)\n",
      "\n",
      "Sample  9: [1] Rock yr chik. Get 100's of filthy films &XXX pics on yr phone now. rply FILTH to 69669. Saristar Ltd, E14 9YT 08701752560. 450p per 5 days. Stop2 cancel\n",
      "\n",
      "Sample 10: [0] What's happening with you. Have you gotten a job and have you begun registration for permanent residency\n",
      "\n"
     ]
    }
   ],
   "source": [
    "manager.show_samples(n=10)"
   ]
  },
  {
   "cell_type": "markdown",
   "id": "4b230e3b",
   "metadata": {},
   "source": [
    "## Предобработка датасета и инициализация модели"
   ]
  },
  {
   "cell_type": "code",
   "execution_count": 26,
   "id": "21e6a7f1",
   "metadata": {},
   "outputs": [
    {
     "data": {
      "application/vnd.jupyter.widget-view+json": {
       "model_id": "60c8b35b656f4130a91a3e91421a855a",
       "version_major": 2,
       "version_minor": 0
      },
      "text/plain": [
       "Map:   0%|          | 0/558 [00:00<?, ? examples/s]"
      ]
     },
     "metadata": {},
     "output_type": "display_data"
    },
    {
     "name": "stderr",
     "output_type": "stream",
     "text": [
      "Some weights of DistilBertForSequenceClassification were not initialized from the model checkpoint at distilbert-base-uncased and are newly initialized: ['classifier.bias', 'classifier.weight', 'pre_classifier.bias', 'pre_classifier.weight']\n",
      "You should probably TRAIN this model on a down-stream task to be able to use it for predictions and inference.\n",
      "c:\\python_projects\\.venv\\Lib\\site-packages\\transformers\\training_args.py:1594: FutureWarning: `evaluation_strategy` is deprecated and will be removed in version 4.46 of 🤗 Transformers. Use `eval_strategy` instead\n",
      "  warnings.warn(\n"
     ]
    }
   ],
   "source": [
    "tokenized = manager.preprocess(max_length=128)\n",
    "\n",
    "classifier = SpamClassifier(num_labels=2)\n",
    "\n",
    "dummy_input_ids = torch.zeros((1, 128), dtype=torch.long)\n",
    "dummy_attention = torch.ones((1, 128), dtype=torch.long)"
   ]
  },
  {
   "cell_type": "markdown",
   "id": "538bb0dd",
   "metadata": {},
   "source": [
    "## Обучение модели"
   ]
  },
  {
   "cell_type": "code",
   "execution_count": 27,
   "id": "26736c71",
   "metadata": {},
   "outputs": [
    {
     "name": "stderr",
     "output_type": "stream",
     "text": [
      "C:\\Users\\kof3st\\AppData\\Local\\Temp\\ipykernel_1448\\1564869070.py:76: FutureWarning: `tokenizer` is deprecated and will be removed in version 5.0.0 for `Trainer.__init__`. Use `processing_class` instead.\n",
      "  trainer = Trainer(\n"
     ]
    },
    {
     "data": {
      "text/html": [
       "\n",
       "    <div>\n",
       "      \n",
       "      <progress value='2440' max='2440' style='width:300px; height:20px; vertical-align: middle;'></progress>\n",
       "      [2440/2440 01:07, Epoch 5/5]\n",
       "    </div>\n",
       "    <table border=\"1\" class=\"dataframe\">\n",
       "  <thead>\n",
       " <tr style=\"text-align: left;\">\n",
       "      <th>Epoch</th>\n",
       "      <th>Training Loss</th>\n",
       "      <th>Validation Loss</th>\n",
       "      <th>Accuracy</th>\n",
       "    </tr>\n",
       "  </thead>\n",
       "  <tbody>\n",
       "    <tr>\n",
       "      <td>1</td>\n",
       "      <td>0.076800</td>\n",
       "      <td>0.054485</td>\n",
       "      <td>0.991031</td>\n",
       "    </tr>\n",
       "    <tr>\n",
       "      <td>2</td>\n",
       "      <td>0.017400</td>\n",
       "      <td>0.060541</td>\n",
       "      <td>0.989238</td>\n",
       "    </tr>\n",
       "    <tr>\n",
       "      <td>3</td>\n",
       "      <td>0.001100</td>\n",
       "      <td>0.082912</td>\n",
       "      <td>0.988341</td>\n",
       "    </tr>\n",
       "    <tr>\n",
       "      <td>4</td>\n",
       "      <td>0.000100</td>\n",
       "      <td>0.078764</td>\n",
       "      <td>0.991928</td>\n",
       "    </tr>\n",
       "    <tr>\n",
       "      <td>5</td>\n",
       "      <td>0.000100</td>\n",
       "      <td>0.079567</td>\n",
       "      <td>0.991928</td>\n",
       "    </tr>\n",
       "  </tbody>\n",
       "</table><p>"
      ],
      "text/plain": [
       "<IPython.core.display.HTML object>"
      ]
     },
     "metadata": {},
     "output_type": "display_data"
    }
   ],
   "source": [
    "trainer = classifier.train(\n",
    "    tokenized_dataset=tokenized,\n",
    "    tokenizer=manager.tokenizer,\n",
    ")"
   ]
  },
  {
   "cell_type": "markdown",
   "id": "cad6520a",
   "metadata": {},
   "source": [
    "## График ошибки модели"
   ]
  },
  {
   "cell_type": "code",
   "execution_count": 28,
   "id": "9f974d8f",
   "metadata": {},
   "outputs": [
    {
     "data": {
      "image/png": "[encoded data removed]",
      "text/plain": [
       "<Figure size 600x400 with 1 Axes>"
      ]
     },
     "metadata": {},
     "output_type": "display_data"
    }
   ],
   "source": [
    "classifier.plot_loss()"
   ]
  },
  {
   "cell_type": "markdown",
   "id": "22d833eb",
   "metadata": {},
   "source": [
    "## График точности модели"
   ]
  },
  {
   "cell_type": "code",
   "execution_count": 29,
   "id": "af1340f4",
   "metadata": {},
   "outputs": [
    {
     "data": {
      "image/png": "[encoded data removed]",
      "text/plain": [
       "<Figure size 600x400 with 1 Axes>"
      ]
     },
     "metadata": {},
     "output_type": "display_data"
    }
   ],
   "source": [
    "classifier.plot_accuracy()"
   ]
  },
  {
   "cell_type": "markdown",
   "id": "e77e9657",
   "metadata": {},
   "source": [
    "## Проверка модели на тестовой выборке"
   ]
  },
  {
   "cell_type": "code",
   "execution_count": 31,
   "id": "06f99501",
   "metadata": {},
   "outputs": [
    {
     "name": "stdout",
     "output_type": "stream",
     "text": [
      "\n",
      "\u001b[92mTesting on test split...\u001b[0m\n",
      "\u001b[92mTest Accuracy: 0.9946\u001b[0m\n",
      "\u001b[92mTraining complete. Model and metrics saved to:\u001b[0m ./spam_model\n"
     ]
    }
   ],
   "source": [
    "classifier.test(tokenized)\n",
    "print(\n",
    "    \"\\033[92mTraining complete. Model and metrics saved to:\\033[0m\",\n",
    "    classifier.args.output_dir,\n",
    ")"
   ]
  }
 ],
 "metadata": {
  "kernelspec": {
   "display_name": ".venv",
   "language": "python",
   "name": "python3"
  },
  "language_info": {
   "codemirror_mode": {
    "name": "ipython",
    "version": 3
   },
   "file_extension": ".py",
   "mimetype": "text/x-python",
   "name": "python",
   "nbconvert_exporter": "python",
   "pygments_lexer": "ipython3",
   "version": "3.13.1"
  }
 },
 "nbformat": 4,
 "nbformat_minor": 5
}
