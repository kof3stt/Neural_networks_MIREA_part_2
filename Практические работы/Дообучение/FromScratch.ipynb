{
 "cells": [
  {
   "cell_type": "markdown",
   "id": "395cde9e",
   "metadata": {},
   "source": [
    "## Обучение с нуля"
   ]
  },
  {
   "cell_type": "markdown",
   "id": "d515cc09",
   "metadata": {},
   "source": [
    "## Импорт библиотек"
   ]
  },
  {
   "cell_type": "code",
   "execution_count": 30,
   "id": "aac3bdc4",
   "metadata": {},
   "outputs": [],
   "source": [
    "import torch\n",
    "from torch.utils.data import DataLoader\n",
    "from torch.nn import CrossEntropyLoss\n",
    "from transformers import (\n",
    "    AutoTokenizer,\n",
    "    AutoConfig,\n",
    "    AutoModelForSequenceClassification,\n",
    "    DataCollatorWithPadding,\n",
    ")\n",
    "from datasets import load_dataset\n",
    "from sklearn.metrics import accuracy_score\n",
    "from tqdm import tqdm"
   ]
  },
  {
   "cell_type": "markdown",
   "id": "e18bc185",
   "metadata": {},
   "source": [
    "## Загрузка и подготовка датасета"
   ]
  },
  {
   "cell_type": "code",
   "execution_count": 31,
   "id": "c2fe3f94",
   "metadata": {},
   "outputs": [
    {
     "data": {
      "application/vnd.jupyter.widget-view+json": {
       "model_id": "9f81b3f9070c4916bf182007160cf26e",
       "version_major": 2,
       "version_minor": 0
      },
      "text/plain": [
       "Map:   0%|          | 0/4459 [00:00<?, ? examples/s]"
      ]
     },
     "metadata": {},
     "output_type": "display_data"
    },
    {
     "data": {
      "application/vnd.jupyter.widget-view+json": {
       "model_id": "0e4403400be24721a7cfaf19728c3b75",
       "version_major": 2,
       "version_minor": 0
      },
      "text/plain": [
       "Map:   0%|          | 0/557 [00:00<?, ? examples/s]"
      ]
     },
     "metadata": {},
     "output_type": "display_data"
    },
    {
     "data": {
      "application/vnd.jupyter.widget-view+json": {
       "model_id": "4b0ec5a98efc419591d83515ad8a5123",
       "version_major": 2,
       "version_minor": 0
      },
      "text/plain": [
       "Map:   0%|          | 0/558 [00:00<?, ? examples/s]"
      ]
     },
     "metadata": {},
     "output_type": "display_data"
    }
   ],
   "source": [
    "dataset = load_dataset(\"sms_spam\")[\"train\"]\n",
    "\n",
    "splits = dataset.train_test_split(test_size=0.2, seed=42)\n",
    "train_dataset = splits[\"train\"]\n",
    "temp_dataset = splits[\"test\"]\n",
    "\n",
    "final_splits = temp_dataset.train_test_split(test_size=0.5, seed=42)\n",
    "val_dataset = final_splits[\"train\"]\n",
    "test_dataset = final_splits[\"test\"]\n",
    "\n",
    "tokenizer = AutoTokenizer.from_pretrained(\"distilbert-base-uncased\")\n",
    "\n",
    "\n",
    "def tokenize_function(example):\n",
    "    tokens = tokenizer(example[\"sms\"], truncation=True, padding=\"max_length\", max_length=128)\n",
    "    tokens[\"labels\"] = example[\"label\"]\n",
    "    return tokens\n",
    "\n",
    "\n",
    "train_dataset = train_dataset.map(tokenize_function, batched=True, remove_columns=[\"sms\", \"label\"])\n",
    "val_dataset = val_dataset.map(tokenize_function, batched=True, remove_columns=[\"sms\", \"label\"])\n",
    "test_dataset = test_dataset.map(tokenize_function, batched=True, remove_columns=[\"sms\", \"label\"])\n",
    "\n",
    "\n",
    "data_collator = DataCollatorWithPadding(tokenizer=tokenizer)\n",
    "\n",
    "train_dataloader = DataLoader(train_dataset, shuffle=True, batch_size=8, collate_fn=data_collator)\n",
    "val_dataloader = DataLoader(val_dataset, batch_size=8, collate_fn=data_collator)\n",
    "test_dataloader = DataLoader(test_dataset, batch_size=8, collate_fn=data_collator)"
   ]
  },
  {
   "cell_type": "markdown",
   "id": "6f356ad2",
   "metadata": {},
   "source": [
    "## Инициализация модели"
   ]
  },
  {
   "cell_type": "code",
   "execution_count": 32,
   "id": "c7ff599e",
   "metadata": {},
   "outputs": [
    {
     "data": {
      "text/plain": [
       "DistilBertForSequenceClassification(\n",
       "  (distilbert): DistilBertModel(\n",
       "    (embeddings): Embeddings(\n",
       "      (word_embeddings): Embedding(30522, 768, padding_idx=0)\n",
       "      (position_embeddings): Embedding(512, 768)\n",
       "      (LayerNorm): LayerNorm((768,), eps=1e-12, elementwise_affine=True)\n",
       "      (dropout): Dropout(p=0.1, inplace=False)\n",
       "    )\n",
       "    (transformer): Transformer(\n",
       "      (layer): ModuleList(\n",
       "        (0-5): 6 x TransformerBlock(\n",
       "          (attention): DistilBertSdpaAttention(\n",
       "            (dropout): Dropout(p=0.1, inplace=False)\n",
       "            (q_lin): Linear(in_features=768, out_features=768, bias=True)\n",
       "            (k_lin): Linear(in_features=768, out_features=768, bias=True)\n",
       "            (v_lin): Linear(in_features=768, out_features=768, bias=True)\n",
       "            (out_lin): Linear(in_features=768, out_features=768, bias=True)\n",
       "          )\n",
       "          (sa_layer_norm): LayerNorm((768,), eps=1e-12, elementwise_affine=True)\n",
       "          (ffn): FFN(\n",
       "            (dropout): Dropout(p=0.1, inplace=False)\n",
       "            (lin1): Linear(in_features=768, out_features=3072, bias=True)\n",
       "            (lin2): Linear(in_features=3072, out_features=768, bias=True)\n",
       "            (activation): GELUActivation()\n",
       "          )\n",
       "          (output_layer_norm): LayerNorm((768,), eps=1e-12, elementwise_affine=True)\n",
       "        )\n",
       "      )\n",
       "    )\n",
       "  )\n",
       "  (pre_classifier): Linear(in_features=768, out_features=768, bias=True)\n",
       "  (classifier): Linear(in_features=768, out_features=2, bias=True)\n",
       "  (dropout): Dropout(p=0.2, inplace=False)\n",
       ")"
      ]
     },
     "execution_count": 32,
     "metadata": {},
     "output_type": "execute_result"
    }
   ],
   "source": [
    "config = AutoConfig.from_pretrained(\"distilbert-base-uncased\", num_labels=2)\n",
    "model = AutoModelForSequenceClassification.from_config(config)\n",
    "model.init_weights()\n",
    "\n",
    "optimizer = torch.optim.AdamW(model.parameters(), lr=5e-5)\n",
    "\n",
    "device = torch.device(\"cuda\") if torch.cuda.is_available() else torch.device(\"cpu\")\n",
    "model.to(device)"
   ]
  },
  {
   "cell_type": "markdown",
   "id": "45e190f3",
   "metadata": {},
   "source": [
    "## Функция для оценки точности"
   ]
  },
  {
   "cell_type": "code",
   "execution_count": 33,
   "id": "d229357c",
   "metadata": {},
   "outputs": [],
   "source": [
    "def evaluate(model, dataloader):\n",
    "    model.eval()\n",
    "    preds = []\n",
    "    labels = []\n",
    "\n",
    "    for batch in dataloader:\n",
    "        batch = {k: v.to(device) for k, v in batch.items()}\n",
    "        with torch.no_grad():\n",
    "            outputs = model(**batch)\n",
    "\n",
    "        logits = outputs.logits\n",
    "        preds.extend(torch.argmax(logits, dim=-1).cpu().numpy())\n",
    "        labels.extend(batch[\"labels\"].cpu().numpy())\n",
    "\n",
    "    return accuracy_score(labels, preds)"
   ]
  },
  {
   "cell_type": "markdown",
   "id": "91c969bc",
   "metadata": {},
   "source": [
    "## Обучение модели"
   ]
  },
  {
   "cell_type": "code",
   "execution_count": 34,
   "id": "7ae86e23",
   "metadata": {},
   "outputs": [
    {
     "name": "stdout",
     "output_type": "stream",
     "text": [
      "Epoch 1: Avg Train Loss = 0.0956, Val Accuracy = 0.9928\n",
      "Epoch 2: Avg Train Loss = 0.0310, Val Accuracy = 0.9785\n",
      "Epoch 3: Avg Train Loss = 0.0296, Val Accuracy = 0.9803\n",
      "Epoch 4: Avg Train Loss = 0.0134, Val Accuracy = 0.9856\n",
      "Epoch 5: Avg Train Loss = 0.0086, Val Accuracy = 0.9856\n",
      "Epoch 6: Avg Train Loss = 0.0342, Val Accuracy = 0.9767\n",
      "Epoch 7: Avg Train Loss = 0.0480, Val Accuracy = 0.9767\n",
      "Epoch 8: Avg Train Loss = 0.0426, Val Accuracy = 0.9785\n",
      "Epoch 9: Avg Train Loss = 0.0295, Val Accuracy = 0.9838\n",
      "Epoch 10: Avg Train Loss = 0.0181, Val Accuracy = 0.9892\n"
     ]
    }
   ],
   "source": [
    "num_epochs = 10\n",
    "loss_fn = CrossEntropyLoss()\n",
    "\n",
    "for epoch in range(num_epochs):\n",
    "    model.train()\n",
    "    total_loss = 0\n",
    "    for batch in train_dataloader:\n",
    "        batch = {k: v.to(device) for k, v in batch.items()}\n",
    "        outputs = model(**batch)\n",
    "        logits = outputs.logits\n",
    "        \n",
    "        loss = loss_fn(logits, batch[\"labels\"])\n",
    "\n",
    "        loss.backward()\n",
    "        optimizer.step()\n",
    "        optimizer.zero_grad()\n",
    "        total_loss += loss.item()\n",
    "\n",
    "    avg_train_loss = total_loss / len(train_dataloader)\n",
    "    val_accuracy = evaluate(model, val_dataloader)\n",
    "\n",
    "    print(f\"Epoch {epoch+1}: Avg Train Loss = {avg_train_loss:.4f}, Val Accuracy = {val_accuracy:.4f}\")"
   ]
  },
  {
   "cell_type": "markdown",
   "id": "ddcc81d5",
   "metadata": {},
   "source": [
    "## Оценка модели"
   ]
  },
  {
   "cell_type": "code",
   "execution_count": 35,
   "id": "4e482524",
   "metadata": {},
   "outputs": [
    {
     "name": "stdout",
     "output_type": "stream",
     "text": [
      "\n",
      "\u001b[92mFinal Test Accuracy: 0.9821\u001b[0m\n"
     ]
    }
   ],
   "source": [
    "test_accuracy = evaluate(model, test_dataloader)\n",
    "print(f\"\\n\\033[92mFinal Test Accuracy: {test_accuracy:.4f}\\033[0m\")"
   ]
  }
 ],
 "metadata": {
  "kernelspec": {
   "display_name": ".venv",
   "language": "python",
   "name": "python3"
  },
  "language_info": {
   "codemirror_mode": {
    "name": "ipython",
    "version": 3
   },
   "file_extension": ".py",
   "mimetype": "text/x-python",
   "name": "python",
   "nbconvert_exporter": "python",
   "pygments_lexer": "ipython3",
   "version": "3.13.1"
  }
 },
 "nbformat": 4,
 "nbformat_minor": 5
}
